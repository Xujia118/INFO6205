{
 "cells": [
  {
   "cell_type": "code",
   "execution_count": 3,
   "metadata": {},
   "outputs": [
    {
     "name": "stdout",
     "output_type": "stream",
     "text": [
      "Before swap x =  100  y = 200\n",
      "In swap x = 100  y= 200\n",
      "Out swap x = 200  y= 100\n",
      "After swap x =  100  y = 200\n"
     ]
    }
   ],
   "source": [
    "def swap(x, y):\n",
    "    print(\"In swap x =\", x, \" y=\", y)\n",
    "    t = x\n",
    "    x = y\n",
    "    y = t\n",
    "    print(\"Out swap x =\", x, \" y=\", y)\n",
    "\n",
    "x = 100\n",
    "y = 200\n",
    "print('Before swap x = ', x, ' y =', y)\n",
    "swap(x, y)\n",
    "print('After swap x = ', x, ' y =', y)"
   ]
  },
  {
   "cell_type": "code",
   "execution_count": 4,
   "metadata": {},
   "outputs": [
    {
     "name": "stdout",
     "output_type": "stream",
     "text": [
      "Before swap x =  100  y = 200\n",
      "In swap a[0] = 100 a[1]= 200\n",
      "Out swap a[0] = 200 a[1]= 100\n",
      "After swap x =  200  y = 100\n"
     ]
    }
   ],
   "source": [
    "def swap2(a):\n",
    "    print('In swap a[0] =', a[0], 'a[1]=', a[1])\n",
    "    t = a[0]\n",
    "    a[0] = a[1]\n",
    "    a[1] = t\n",
    "    print('Out swap a[0] =', a[0], 'a[1]=', a[1])\n",
    "\n",
    "x = 100\n",
    "y = 200\n",
    "a = [100, 200]\n",
    "print('Before swap x = ', x, ' y =', y)\n",
    "swap2(a)\n",
    "x = a[0]\n",
    "y = a[1]\n",
    "print('After swap x = ', x, ' y =', y)\n",
    "\n",
    "\n"
   ]
  },
  {
   "cell_type": "code",
   "execution_count": 14,
   "metadata": {},
   "outputs": [
    {
     "name": "stdout",
     "output_type": "stream",
     "text": [
      "[10, 100]\n"
     ]
    }
   ],
   "source": [
    "def get_num():\n",
    "    n.append(100)\n",
    "\n",
    "n = [10]\n",
    "get_num()\n",
    "print(n) "
   ]
  },
  {
   "cell_type": "code",
   "execution_count": 17,
   "metadata": {},
   "outputs": [
    {
     "name": "stdout",
     "output_type": "stream",
     "text": [
      "[10, 20]\n",
      "[10, 20]\n"
     ]
    }
   ],
   "source": [
    "a = [10]\n",
    "c = a\n",
    "c.append(20)\n",
    "print(a)\n",
    "print(c)"
   ]
  },
  {
   "cell_type": "code",
   "execution_count": 18,
   "metadata": {},
   "outputs": [
    {
     "name": "stdout",
     "output_type": "stream",
     "text": [
      "{2, 3}\n"
     ]
    }
   ],
   "source": [
    "nums1 = [1,1,3,2]\n",
    "nums2 = [2,3]\n",
    "set1 = set(nums1)\n",
    "set2 = set(nums2)\n",
    "repeats = set1.intersection(set2)\n",
    "print(repeats)"
   ]
  },
  {
   "cell_type": "code",
   "execution_count": 5,
   "metadata": {},
   "outputs": [
    {
     "name": "stdout",
     "output_type": "stream",
     "text": [
      "Before swap\n",
      "a at 140705473881160\n",
      "b at 140705473881480\n",
      "After swap\n",
      "a at 140705473881480\n",
      "b at 140705473881160\n",
      "20\n",
      "10\n"
     ]
    }
   ],
   "source": [
    "a = 10\n",
    "b = 20\n",
    "print(\"Before swap\")\n",
    "print(f\"a at {id(a)}\")\n",
    "print(f\"b at {id(b)}\")\n",
    "# [a, b] = [b, a]\n",
    "# a, b = b, a\n",
    "t = a\n",
    "a = b\n",
    "b = t\n",
    "print(\"After swap\")\n",
    "print(f\"a at {id(a)}\")\n",
    "print(f\"b at {id(b)}\")\n",
    "print(a)\n",
    "print(b)\n"
   ]
  },
  {
   "cell_type": "code",
   "execution_count": null,
   "metadata": {},
   "outputs": [],
   "source": [
    "import time\n",
    "\n",
    "# Your class and method definition here...\n",
    "\n",
    "# Create an instance of your class\n",
    "your_instance = YourClassName()\n",
    "\n",
    "# Set the value of n\n",
    "your_instance.set_n(78498)\n",
    "\n",
    "# Measure the execution time\n",
    "start_time = time.time()\n",
    "your_instance._up_to_primes()\n",
    "end_time = time.time()\n",
    "\n",
    "elapsed_time = end_time - start_time\n",
    "print(f\"Execution time: {elapsed_time} seconds\")\n"
   ]
  }
 ],
 "metadata": {
  "kernelspec": {
   "display_name": "Python 3",
   "language": "python",
   "name": "python3"
  },
  "language_info": {
   "codemirror_mode": {
    "name": "ipython",
    "version": 3
   },
   "file_extension": ".py",
   "mimetype": "text/x-python",
   "name": "python",
   "nbconvert_exporter": "python",
   "pygments_lexer": "ipython3",
   "version": "3.11.3"
  }
 },
 "nbformat": 4,
 "nbformat_minor": 2
}
